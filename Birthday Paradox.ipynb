{
 "cells": [
  {
   "cell_type": "markdown",
   "metadata": {},
   "source": [
    "Birthday Problem / Paradox\n",
    "\n",
    "https://en.wikipedia.org/wiki/Birthday_problem\n",
    "\n",
    "How many people are needed in a room, that the probability at least two of them have the same birthdate is greater than 50%?"
   ]
  },
  {
   "cell_type": "code",
   "execution_count": 1,
   "metadata": {},
   "outputs": [],
   "source": [
    "from random import randint\n",
    "from matplotlib import pyplot as plt"
   ]
  },
  {
   "cell_type": "markdown",
   "metadata": {},
   "source": [
    "While we could directly compute where the 50% and higher probability would occur, instead, lets just create a bunch of data to observe where it likely occurs\n",
    "\n",
    "Lets generate a large number of sample 'rooms', with  2 to 100 people in them, and count instances where two people share a birthday. \n"
   ]
  },
  {
   "cell_type": "code",
   "execution_count": 2,
   "metadata": {},
   "outputs": [],
   "source": [
    "nbr_of_trials = 10000\n",
    "\n",
    "observed_probabilities_of_same_birthdays = []\n",
    "for nbr_of_people_in_room in range(2,101):\n",
    "    nbr_of_trials_with_shared_birthday = 0\n",
    "    \n",
    "    for trial in range(nbr_of_trials):\n",
    "        birthdays_in_room = [randint(0,365) for person in range(nbr_of_people_in_room)]\n",
    "        if len(birthdays_in_room) > len(set(birthdays_in_room)): #implies matching birthdays\n",
    "            nbr_of_trials_with_shared_birthday += 1\n",
    "            \n",
    "    \n",
    "    observed_probabilities_of_same_birthdays.append(nbr_of_trials_with_shared_birthday/nbr_of_trials)\n",
    "    "
   ]
  },
  {
   "cell_type": "markdown",
   "metadata": {},
   "source": [
    "Now that we have our results in a list, let's plot them to get an idea how the probability changes with the number of people in the room"
   ]
  },
  {
   "cell_type": "code",
   "execution_count": 3,
   "metadata": {},
   "outputs": [
    {
     "data": {
      "image/png": "[encoded data removed]",
      "text/plain": [
       "<Figure size 432x288 with 1 Axes>"
      ]
     },
     "metadata": {
      "needs_background": "light"
     },
     "output_type": "display_data"
    },
    {
     "data": {
      "text/plain": [
       "<Figure size 720x1080 with 0 Axes>"
      ]
     },
     "metadata": {},
     "output_type": "display_data"
    }
   ],
   "source": [
    "fig, ax = plt.subplots()\n",
    "plt.figure(figsize=(10,15))\n",
    "ax.plot(list(range(2,101)), observed_probabilities_of_same_birthdays)\n",
    "ax.set(xlabel='Number of People in Room', ylabel='Probability', title='Probability of Matching Birthdays')\n",
    "\n",
    "plt.show()"
   ]
  },
  {
   "cell_type": "markdown",
   "metadata": {},
   "source": [
    "Looking at the plot, we can eyeball that it's occuring around 25 -- but where exactly are we breaking that 50% mark for the first time?"
   ]
  },
  {
   "cell_type": "code",
   "execution_count": 4,
   "metadata": {},
   "outputs": [
    {
     "name": "stdout",
     "output_type": "stream",
     "text": [
      "A room with 23 number of people has a 0.5043 probability of having at least two people share a birthday\n"
     ]
    }
   ],
   "source": [
    "for nbr_of_people, probability in zip(list(range(2,101)), observed_probabilities_of_same_birthdays):\n",
    "    if probability >= 0.5:\n",
    "        print('A room with {0} number of people has a {1} probability of having at least two people share a birthday'.format(nbr_of_people,probability))\n",
    "        break"
   ]
  }
 ],
 "metadata": {
  "kernelspec": {
   "display_name": "Python 3",
   "language": "python",
   "name": "python3"
  },
  "language_info": {
   "codemirror_mode": {
    "name": "ipython",
    "version": 3
   },
   "file_extension": ".py",
   "mimetype": "text/x-python",
   "name": "python",
   "nbconvert_exporter": "python",
   "pygments_lexer": "ipython3",
   "version": "3.7.1"
  }
 },
 "nbformat": 4,
 "nbformat_minor": 2
}
