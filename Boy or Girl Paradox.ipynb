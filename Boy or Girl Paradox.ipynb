{
 "cells": [
  {
   "cell_type": "markdown",
   "metadata": {},
   "source": [
    "Assume that boys and girls are born with equal probability (i.e., 0.5/50% each). If a mother of two tells you at least one of her children is a boy, what is the probability the other is a girl?\n",
    "\n",
    "https://en.wikipedia.org/wiki/Boy_or_Girl_paradox"
   ]
  },
  {
   "cell_type": "code",
   "execution_count": 1,
   "metadata": {},
   "outputs": [],
   "source": [
    "from random import randint"
   ]
  },
  {
   "cell_type": "code",
   "execution_count": 2,
   "metadata": {},
   "outputs": [],
   "source": [
    "nbr_of_pairs = 1000000\n",
    "#create a list of 1,000,000 pairs, with either boy/boy, boy/girl, girl/boy, girl/girl\n",
    "pairs = [[randint(0,1), randint(0,1)] for i in range (nbr_of_pairs)]"
   ]
  },
  {
   "cell_type": "code",
   "execution_count": 3,
   "metadata": {},
   "outputs": [
    {
     "data": {
      "text/plain": [
       "[[0, 1], [1, 1], [0, 1], [1, 0], [1, 1]]"
      ]
     },
     "execution_count": 3,
     "metadata": {},
     "output_type": "execute_result"
    }
   ],
   "source": [
    "#example of these pairs\n",
    "pairs[0:5]"
   ]
  },
  {
   "cell_type": "code",
   "execution_count": 4,
   "metadata": {},
   "outputs": [
    {
     "data": {
      "text/plain": [
       "[[0, 1], [1, 1], [0, 1], [1, 0], [1, 1]]"
      ]
     },
     "execution_count": 4,
     "metadata": {},
     "output_type": "execute_result"
    }
   ],
   "source": [
    "#identify all the pairs where at least one child is a 'boy'\n",
    "pairs_with_boy = [pair for pair in pairs if pair[0]+pair[1] >= 1]\n",
    "pairs_with_boy[0:5]"
   ]
  },
  {
   "cell_type": "code",
   "execution_count": 5,
   "metadata": {},
   "outputs": [
    {
     "name": "stdout",
     "output_type": "stream",
     "text": [
      "0.6665054184723799\n"
     ]
    }
   ],
   "source": [
    "#for each pair with at least 1 boy, find all pairs where the 'other' child is a girl\n",
    "other_is_girl = [girl for girl in pairs_with_boy if girl[0]+girl[1] != 2]\n",
    "probability_other_is_girl = len(other_is_girl) / len(pairs_with_boy)\n",
    "\n",
    "#display the probability -- which should be roughly 2/3\n",
    "print(probability_other_is_girl)"
   ]
  },
  {
   "cell_type": "code",
   "execution_count": 6,
   "metadata": {},
   "outputs": [
    {
     "data": {
      "text/plain": [
       "[[1, 1], [1, 0], [1, 1], [1, 1], [1, 1]]"
      ]
     },
     "execution_count": 6,
     "metadata": {},
     "output_type": "execute_result"
    }
   ],
   "source": [
    "#Now, consider the alternative formulation, where we know the first child is a boy, and ask if the second is a girl\n",
    "pairs_with_first_child_boy = [pair for pair in pairs if pair[0] ==1]\n",
    "pairs_with_first_child_boy[0:5]"
   ]
  },
  {
   "cell_type": "code",
   "execution_count": 7,
   "metadata": {},
   "outputs": [
    {
     "name": "stdout",
     "output_type": "stream",
     "text": [
      "0.4992967229088261\n"
     ]
    }
   ],
   "source": [
    "#for all pairs where the first is a boy, identify ones where the second is a girl\n",
    "second_child_is_girl = [girl for girl in pairs_with_first_child_boy if girl[1] == 0]\n",
    "probability_second_is_girl = len(second_child_is_girl) / len(pairs_with_first_child_boy)\n",
    "\n",
    "#show the results, which should be around 1/2\n",
    "print(probability_second_is_girl)"
   ]
  }
 ],
 "metadata": {
  "kernelspec": {
   "display_name": "Python 3",
   "language": "python",
   "name": "python3"
  },
  "language_info": {
   "codemirror_mode": {
    "name": "ipython",
    "version": 3
   },
   "file_extension": ".py",
   "mimetype": "text/x-python",
   "name": "python",
   "nbconvert_exporter": "python",
   "pygments_lexer": "ipython3",
   "version": "3.7.1"
  }
 },
 "nbformat": 4,
 "nbformat_minor": 2
}
