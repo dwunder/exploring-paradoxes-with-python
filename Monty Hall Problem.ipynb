{
 "cells": [
  {
   "cell_type": "markdown",
   "metadata": {},
   "source": [
    "https://en.wikipedia.org/wiki/Monty_Hall_problem"
   ]
  },
  {
   "cell_type": "code",
   "execution_count": 1,
   "metadata": {},
   "outputs": [],
   "source": [
    "from random import randint"
   ]
  },
  {
   "cell_type": "code",
   "execution_count": 2,
   "metadata": {},
   "outputs": [],
   "source": [
    "number_of_games = 1000000\n",
    "location_of_car = [randint(0,2) for i in range(number_of_games)]\n",
    "game_show_list = []\n",
    "\n",
    "for i, car_location in enumerate(location_of_car):\n",
    "    game_show_list.append([0,0,0])\n",
    "    game_show_list[i][car_location] = 1\n",
    "    "
   ]
  },
  {
   "cell_type": "code",
   "execution_count": 3,
   "metadata": {},
   "outputs": [
    {
     "data": {
      "text/plain": [
       "[[1, 0, 0], [0, 1, 0], [0, 0, 1]]"
      ]
     },
     "execution_count": 3,
     "metadata": {},
     "output_type": "execute_result"
    }
   ],
   "source": [
    "#Example of a game show\n",
    "game_show_list[:3]"
   ]
  },
  {
   "cell_type": "code",
   "execution_count": 4,
   "metadata": {},
   "outputs": [
    {
     "name": "stdout",
     "output_type": "stream",
     "text": [
      "0.331768\n",
      "0.668232\n"
     ]
    }
   ],
   "source": [
    "\n",
    "count_of_wins_no_switch = 0\n",
    "count_of_wins_with_switch = 0\n",
    "\n",
    "for doors in game_show_list:\n",
    "    guest_chosen_door = randint(0,2)\n",
    "    host_possible_doors = [door_nbr for door_nbr, door in enumerate(doors) if door==0 and door_nbr != guest_chosen_door]\n",
    "    if len(host_possible_doors) > 1:\n",
    "        host_chosen_door = host_possible_doors[randint(0,1)]\n",
    "    else:\n",
    "        if type(host_possible_doors) == 'int':\n",
    "            host_chosen_door = host_possible_doors\n",
    "        else:\n",
    "            host_chosen_door = host_possible_doors[0]\n",
    "        \n",
    "    guest_chosen_door_if_switch = set([0,1,2]).symmetric_difference([host_chosen_door, guest_chosen_door]).pop()\n",
    "    \n",
    "    if doors[guest_chosen_door_if_switch]==1:\n",
    "        count_of_wins_with_switch+=1\n",
    "        \n",
    "    elif doors[guest_chosen_door]==1:\n",
    "        count_of_wins_no_switch+=1   \n",
    "\n",
    "        \n",
    "        \n",
    "print(count_of_wins_no_switch / len(game_show_list))\n",
    "print(count_of_wins_with_switch / len(game_show_list))"
   ]
  },
  {
   "cell_type": "code",
   "execution_count": null,
   "metadata": {},
   "outputs": [],
   "source": []
  }
 ],
 "metadata": {
  "kernelspec": {
   "display_name": "Python 3",
   "language": "python",
   "name": "python3"
  },
  "language_info": {
   "codemirror_mode": {
    "name": "ipython",
    "version": 3
   },
   "file_extension": ".py",
   "mimetype": "text/x-python",
   "name": "python",
   "nbconvert_exporter": "python",
   "pygments_lexer": "ipython3",
   "version": "3.7.1"
  }
 },
 "nbformat": 4,
 "nbformat_minor": 2
}
